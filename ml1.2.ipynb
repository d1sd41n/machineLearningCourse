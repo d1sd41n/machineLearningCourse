{
 "cells": [
  {
   "cell_type": "code",
   "execution_count": 1,
   "metadata": {
    "scrolled": true
   },
   "outputs": [
    {
     "name": "stderr",
     "output_type": "stream",
     "text": [
      "/home/dan/.local/lib/python3.6/site-packages/sklearn/cross_validation.py:41: DeprecationWarning: This module was deprecated in version 0.18 in favor of the model_selection module into which all the refactored classes and functions are moved. Also note that the interface of the new CV iterators are different from that of this module. This module will be removed in 0.20.\n",
      "  \"This module will be removed in 0.20.\", DeprecationWarning)\n"
     ]
    }
   ],
   "source": [
    "import pandas as pd \n",
    "import quandl\n",
    "import math, datetime\n",
    "import numpy as np\n",
    "from sklearn import preprocessing, cross_validation, svm\n",
    "from sklearn.linear_model import LinearRegression\n",
    "import matplotlib.pyplot as plt\n",
    "from matplotlib import style\n",
    "import pickle\n",
    "\n",
    "style.use('ggplot')"
   ]
  },
  {
   "cell_type": "code",
   "execution_count": 2,
   "metadata": {},
   "outputs": [
    {
     "name": "stdout",
     "output_type": "stream",
     "text": [
      "3424\n"
     ]
    }
   ],
   "source": [
    "df = quandl.get('WIKI/GOOGL') \n",
    "df = df[['Adj. Open', 'Adj. High', 'Adj. Low', 'Adj. Close', 'Adj. Volume']]\n",
    "df['HL_PCT'] = (df['Adj. High'] - df['Adj. Close']) / df['Adj. Close'] * 100.0\n",
    "df['PCT_change'] = (df['Adj. Close'] - df['Adj. Open']) / df['Adj. Close'] * 100.0\n",
    "df = df[['Adj. Close', 'HL_PCT', 'PCT_change', 'Adj. Volume']]\n",
    "print(len(df))"
   ]
  },
  {
   "cell_type": "code",
   "execution_count": 3,
   "metadata": {},
   "outputs": [],
   "source": [
    "forecast_col = 'Adj. Close'\n",
    "df.fillna(-99999, inplace=True)\n",
    "forecast_out = int(math.ceil(0.01*len(df)))\n",
    "df['label'] = df[forecast_col].shift(-forecast_out)\n",
    "\n",
    "\n",
    "\n",
    "\n",
    "X = np.array(df.drop(['label'], 1))\n",
    "X = preprocessing.scale(X)\n",
    "X_lately = X[-forecast_out:]\n",
    "X = X[:-forecast_out]"
   ]
  },
  {
   "cell_type": "code",
   "execution_count": 4,
   "metadata": {},
   "outputs": [
    {
     "name": "stdout",
     "output_type": "stream",
     "text": [
      "3389 3389\n"
     ]
    }
   ],
   "source": [
    "df.dropna(inplace=True)\n",
    "y = np.array(df['label'])\n",
    "print(len(X),len(y))"
   ]
  },
  {
   "cell_type": "code",
   "execution_count": 5,
   "metadata": {},
   "outputs": [
    {
     "name": "stdout",
     "output_type": "stream",
     "text": [
      "0.9769223061977924\n"
     ]
    }
   ],
   "source": [
    "X_train, X_test, y_train, y_test = cross_validation.train_test_split(X, y, test_size=0.2)\n",
    "\n",
    "#linear regression\n",
    "clf = LinearRegression()\n",
    "clf.fit(X_train, y_train)\n",
    "accuracy = clf.score(X_test, y_test)\n",
    "print(accuracy)"
   ]
  },
  {
   "cell_type": "code",
   "execution_count": 6,
   "metadata": {},
   "outputs": [],
   "source": [
    "#saving the training in a pickle file\n",
    "with open('linearRegression.pickle', 'wb') as f:\n",
    "    pickle.dump(clf,f)\n",
    "    "
   ]
  },
  {
   "cell_type": "code",
   "execution_count": 7,
   "metadata": {},
   "outputs": [
    {
     "name": "stdout",
     "output_type": "stream",
     "text": [
      "0.9769223061977924\n"
     ]
    }
   ],
   "source": [
    "#loading the training\n",
    "pickle_in = open('linearRegression.pickle', 'rb')\n",
    "clf = pickle.load(pickle_in)\n",
    "\n",
    "accuracy = clf.score(X_test, y_test)\n",
    "print(accuracy)"
   ]
  },
  {
   "cell_type": "code",
   "execution_count": 8,
   "metadata": {},
   "outputs": [
    {
     "name": "stdout",
     "output_type": "stream",
     "text": [
      "[1101.62256166 1070.63152433 1018.16252377 1059.55409387 1071.12910883\n",
      " 1071.46591841 1090.332215   1109.1655529  1112.60684206 1120.93103526\n",
      " 1130.3879201  1127.12169471 1146.49753347 1162.1541341  1133.7489255\n",
      " 1120.13756879 1086.08468053 1101.70547856 1112.54015543 1118.85328863\n",
      " 1133.28002506 1147.63137313 1179.2503417  1183.54746213 1155.61142312\n",
      " 1166.50588102 1168.32681358 1150.87690042 1116.28720033 1112.79700483\n",
      " 1110.96499945 1068.04943254 1040.96517443 1070.88182934 1019.60350235] 0.9769223061977924 35\n"
     ]
    }
   ],
   "source": [
    "forecast_set = clf.predict(X_lately)\n",
    "print(forecast_set, accuracy, forecast_out)\n",
    "df['Forecast'] = np.nan"
   ]
  },
  {
   "cell_type": "code",
   "execution_count": 9,
   "metadata": {},
   "outputs": [
    {
     "name": "stdout",
     "output_type": "stream",
     "text": [
      "2018-02-05 00:00:00\n",
      "1517788800.0\n"
     ]
    }
   ],
   "source": [
    "last_date = df.iloc[-1].name # gets the date of the last\n",
    "print(last_date)\n",
    "last_unix = last_date.timestamp() #seconds between 1970 and the lastdate\n",
    "print(last_unix)\n",
    "one_day = 86400 # seconds in one day\n",
    "next_unix = last_unix + one_day\n",
    "#print(next_unix)"
   ]
  },
  {
   "cell_type": "code",
   "execution_count": 10,
   "metadata": {},
   "outputs": [],
   "source": [
    "for i in forecast_set:\n",
    "    next_date = datetime.datetime.fromtimestamp(next_unix)# the date after 1970 + next_unix seconds\n",
    "    next_unix += one_day\n",
    "    df.loc[next_date] = [np.nan for _ in range(len(df.columns)-1)] + [i] #insert the new date as index and NaN for all features except forecast and there inserts the prediccion of the last 35 days"
   ]
  },
  {
   "cell_type": "code",
   "execution_count": 11,
   "metadata": {},
   "outputs": [
    {
     "data": {
      "image/png": "[encoded data removed]",
      "text/plain": [
       "<Figure size 432x288 with 1 Axes>"
      ]
     },
     "metadata": {},
     "output_type": "display_data"
    }
   ],
   "source": [
    "#'Adj. Open', 'Adj. High', 'Adj. Low', 'Adj. Close', 'Adj. Volume'\n",
    "df['Adj. Close'].plot()\n",
    "df['Forecast'].plot()\n",
    "plt.legend(loc=4)\n",
    "plt.xlabel(\"Date\")\n",
    "plt.ylabel(\"Price\")\n",
    "plt.show()"
   ]
  },
  {
   "cell_type": "code",
   "execution_count": null,
   "metadata": {},
   "outputs": [],
   "source": []
  },
  {
   "cell_type": "code",
   "execution_count": null,
   "metadata": {},
   "outputs": [],
   "source": []
  },
  {
   "cell_type": "code",
   "execution_count": null,
   "metadata": {},
   "outputs": [],
   "source": []
  },
  {
   "cell_type": "code",
   "execution_count": null,
   "metadata": {},
   "outputs": [],
   "source": []
  },
  {
   "cell_type": "code",
   "execution_count": null,
   "metadata": {},
   "outputs": [],
   "source": []
  },
  {
   "cell_type": "code",
   "execution_count": null,
   "metadata": {},
   "outputs": [],
   "source": []
  },
  {
   "cell_type": "code",
   "execution_count": null,
   "metadata": {},
   "outputs": [],
   "source": []
  },
  {
   "cell_type": "code",
   "execution_count": null,
   "metadata": {},
   "outputs": [],
   "source": []
  },
  {
   "cell_type": "code",
   "execution_count": null,
   "metadata": {},
   "outputs": [],
   "source": []
  },
  {
   "cell_type": "code",
   "execution_count": null,
   "metadata": {},
   "outputs": [],
   "source": []
  }
 ],
 "metadata": {
  "kernelspec": {
   "display_name": "Python 3",
   "language": "python",
   "name": "python3"
  },
  "language_info": {
   "codemirror_mode": {
    "name": "ipython",
    "version": 3
   },
   "file_extension": ".py",
   "mimetype": "text/x-python",
   "name": "python",
   "nbconvert_exporter": "python",
   "pygments_lexer": "ipython3",
   "version": "3.6.4"
  }
 },
 "nbformat": 4,
 "nbformat_minor": 2
}
