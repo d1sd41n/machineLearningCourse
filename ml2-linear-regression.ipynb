{
 "cells": [
  {
   "cell_type": "code",
   "execution_count": 66,
   "metadata": {},
   "outputs": [],
   "source": [
    "from statistics import mean\n",
    "import numpy as np\n",
    "import matplotlib.pyplot as plt\n",
    "from matplotlib import style\n",
    "import random\n",
    "\n",
    "style.use('fivethirtyeight')"
   ]
  },
  {
   "cell_type": "code",
   "execution_count": 67,
   "metadata": {},
   "outputs": [],
   "source": [
    "#xs = np.array([1,2,3,4,5,6], dtype=np.float64)\n",
    "#ys = np.array([5,4,6,5,6,7], dtype=np.float64)\n",
    "\n",
    "#plt.scatter(xs,ys)"
   ]
  },
  {
   "cell_type": "code",
   "execution_count": 68,
   "metadata": {},
   "outputs": [],
   "source": [
    "def create_database(hm, variance, step=2, correlation=False):\n",
    "    \"\"\"this function generates the data set\"\"\"\n",
    "    val = 1\n",
    "    ys = []\n",
    "    for i in range(hm):\n",
    "        y = val + random.randrange(-variance, variance)\n",
    "        ys.append(y)\n",
    "        if correlation and correlation =='pos':\n",
    "            val += step\n",
    "        elif correlation and correlation =='neg':\n",
    "            val -= step\n",
    "    xs = [i for i in range(len(ys))]\n",
    "    return np.array(xs, dtype=np.float64), np.array(ys, dtype=np.float64)"
   ]
  },
  {
   "cell_type": "code",
   "execution_count": 69,
   "metadata": {},
   "outputs": [],
   "source": [
    "def best_fit_slope_and_intercept(xs, ys):\n",
    "    #formula in a image\n",
    "    m = ( ((mean(xs) * mean(ys)) - mean(xs*ys)) /\n",
    "           ((mean(xs)**2) - mean(xs**2)) )\n",
    "    \n",
    "    b = mean(ys) - m*mean(xs)\n",
    "    return m, b"
   ]
  },
  {
   "cell_type": "code",
   "execution_count": 70,
   "metadata": {},
   "outputs": [],
   "source": [
    "def squared_error(ys_orig, ys_line):\n",
    "    return sum((ys_line - ys_orig)**2)"
   ]
  },
  {
   "cell_type": "code",
   "execution_count": 71,
   "metadata": {},
   "outputs": [],
   "source": [
    "def coefficient_of_determination(ys_orig,ys_line):\n",
    "    y_mean_line = [mean(ys_orig) for y in ys_orig]\n",
    "    squared_error_regr = squared_error(ys_orig, ys_line)\n",
    "    squared_error_y_mean = squared_error(ys_orig, y_mean_line)\n",
    "    return 1 - (squared_error_regr / squared_error_y_mean)"
   ]
  },
  {
   "cell_type": "code",
   "execution_count": 72,
   "metadata": {},
   "outputs": [
    {
     "name": "stdout",
     "output_type": "stream",
     "text": [
      "[ 0.  1.  2.  3.  4.  5.  6.  7.  8.  9. 10. 11. 12. 13. 14. 15. 16. 17.\n",
      " 18. 19. 20. 21. 22. 23. 24. 25. 26. 27. 28. 29. 30. 31. 32. 33. 34. 35.\n",
      " 36. 37. 38. 39.]\n",
      "[10. -6.  1. -2.  3.  8. 17. 18. 21. 20. 11. 24. 31. 28. 23. 39. 42. 39.\n",
      " 32. 43. 48. 36. 54. 56. 43. 41. 47. 46. 64. 49. 57. 57. 66. 62. 64. 61.\n",
      " 77. 80. 80. 79.]\n"
     ]
    }
   ],
   "source": [
    "xs, ys = create_database(40, 10, 2, correlation=\"pos\")\n",
    "print(xs)\n",
    "print(ys)"
   ]
  },
  {
   "cell_type": "code",
   "execution_count": 73,
   "metadata": {},
   "outputs": [
    {
     "name": "stdout",
     "output_type": "stream",
     "text": [
      "1.9685741088180113 0.8378048780487788\n"
     ]
    }
   ],
   "source": [
    "m,b = best_fit_slope_and_intercept(xs, ys)\n",
    "print(m, b)"
   ]
  },
  {
   "cell_type": "code",
   "execution_count": 74,
   "metadata": {},
   "outputs": [
    {
     "name": "stdout",
     "output_type": "stream",
     "text": [
      "[0.8378048780487788, 2.80637898686679, 4.774953095684801, 6.743527204502813, 8.712101313320824, 10.680675422138835, 12.649249530956848, 14.617823639774858, 16.58639774859287, 18.55497185741088, 20.52354596622889, 22.492120075046902, 24.460694183864916, 26.429268292682927, 28.397842401500938, 30.36641651031895, 32.33499061913696, 34.30356472795497, 36.27213883677298, 38.24071294559099, 40.209287054409, 42.177861163227014, 44.146435272045025, 46.115009380863036, 48.083583489681054, 50.052157598499065, 52.020731707317076, 53.98930581613509, 55.9578799249531, 57.92645403377111, 59.89502814258912, 61.86360225140713, 63.83217636022514, 65.80075046904315, 67.76932457786117, 69.73789868667919, 71.70647279549718, 73.6750469043152, 75.64362101313321, 77.61219512195123]\n"
     ]
    }
   ],
   "source": [
    "regression_line = [(m*x)+b for x in xs]\n",
    "print(regression_line)"
   ]
  },
  {
   "cell_type": "code",
   "execution_count": 75,
   "metadata": {},
   "outputs": [
    {
     "name": "stdout",
     "output_type": "stream",
     "text": [
      "error: 0.9277854301490696\n"
     ]
    }
   ],
   "source": [
    "predict_x = 8\n",
    "predict_y = m*predict_x + b\n",
    "\n",
    "r_squared = coefficient_of_determination(ys, regression_line)\n",
    "print(\"error:\",r_squared)"
   ]
  },
  {
   "cell_type": "code",
   "execution_count": 76,
   "metadata": {},
   "outputs": [
    {
     "data": {
      "image/png": "[encoded data removed]",
      "text/plain": [
       "<Figure size 432x288 with 1 Axes>"
      ]
     },
     "metadata": {},
     "output_type": "display_data"
    }
   ],
   "source": [
    "plt.scatter(xs,ys)\n",
    "plt.plot(xs, regression_line)\n",
    "#plt.scatter(xs, regression_line)\n",
    "\n",
    "plt.scatter(predict_x,predict_y, color=\"r\")\n",
    "plt.show()"
   ]
  },
  {
   "cell_type": "code",
   "execution_count": null,
   "metadata": {},
   "outputs": [],
   "source": []
  },
  {
   "cell_type": "code",
   "execution_count": null,
   "metadata": {},
   "outputs": [],
   "source": []
  }
 ],
 "metadata": {
  "kernelspec": {
   "display_name": "Python 3",
   "language": "python",
   "name": "python3"
  },
  "language_info": {
   "codemirror_mode": {
    "name": "ipython",
    "version": 3
   },
   "file_extension": ".py",
   "mimetype": "text/x-python",
   "name": "python",
   "nbconvert_exporter": "python",
   "pygments_lexer": "ipython3",
   "version": "3.6.4"
  }
 },
 "nbformat": 4,
 "nbformat_minor": 2
}
