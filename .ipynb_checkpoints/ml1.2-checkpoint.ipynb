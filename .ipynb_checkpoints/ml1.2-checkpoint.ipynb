{
 "cells": [
  {
   "cell_type": "code",
   "execution_count": 1,
   "metadata": {},
   "outputs": [
    {
     "name": "stderr",
     "output_type": "stream",
     "text": [
      "/home/dan/.local/lib/python3.6/site-packages/sklearn/cross_validation.py:41: DeprecationWarning: This module was deprecated in version 0.18 in favor of the model_selection module into which all the refactored classes and functions are moved. Also note that the interface of the new CV iterators are different from that of this module. This module will be removed in 0.20.\n",
      "  \"This module will be removed in 0.20.\", DeprecationWarning)\n"
     ]
    }
   ],
   "source": [
    "import pandas as pd \n",
    "import quandl\n",
    "import math\n",
    "import numpy as np\n",
    "from sklearn import preprocessing, cross_validation, svm\n",
    "from sklearn.linear_model import LinearRegression"
   ]
  },
  {
   "cell_type": "code",
   "execution_count": null,
   "metadata": {},
   "outputs": [],
   "source": []
  },
  {
   "cell_type": "code",
   "execution_count": 2,
   "metadata": {},
   "outputs": [],
   "source": [
    "df = quandl.get('WIKI/GOOGL') "
   ]
  },
  {
   "cell_type": "code",
   "execution_count": 3,
   "metadata": {},
   "outputs": [
    {
     "name": "stdout",
     "output_type": "stream",
     "text": [
      "              Open    High     Low    Close      Volume  Ex-Dividend  \\\n",
      "Date                                                                   \n",
      "2004-08-19  100.01  104.06   95.96  100.335  44659000.0          0.0   \n",
      "2004-08-20  101.01  109.08  100.50  108.310  22834300.0          0.0   \n",
      "2004-08-23  110.76  113.48  109.05  109.400  18256100.0          0.0   \n",
      "2004-08-24  111.24  111.60  103.57  104.870  15247300.0          0.0   \n",
      "2004-08-25  104.76  108.00  103.88  106.000   9188600.0          0.0   \n",
      "\n",
      "            Split Ratio  Adj. Open  Adj. High   Adj. Low  Adj. Close  \\\n",
      "Date                                                                   \n",
      "2004-08-19          1.0  50.159839  52.191109  48.128568   50.322842   \n",
      "2004-08-20          1.0  50.661387  54.708881  50.405597   54.322689   \n",
      "2004-08-23          1.0  55.551482  56.915693  54.693835   54.869377   \n",
      "2004-08-24          1.0  55.792225  55.972783  51.945350   52.597363   \n",
      "2004-08-25          1.0  52.542193  54.167209  52.100830   53.164113   \n",
      "\n",
      "            Adj. Volume  \n",
      "Date                     \n",
      "2004-08-19   44659000.0  \n",
      "2004-08-20   22834300.0  \n",
      "2004-08-23   18256100.0  \n",
      "2004-08-24   15247300.0  \n",
      "2004-08-25    9188600.0  \n"
     ]
    }
   ],
   "source": [
    "print(df.head())"
   ]
  },
  {
   "cell_type": "code",
   "execution_count": 4,
   "metadata": {},
   "outputs": [
    {
     "name": "stdout",
     "output_type": "stream",
     "text": [
      "            Adj. Open  Adj. High   Adj. Low  Adj. Close  Adj. Volume\n",
      "Date                                                                \n",
      "2004-08-19  50.159839  52.191109  48.128568   50.322842   44659000.0\n",
      "2004-08-20  50.661387  54.708881  50.405597   54.322689   22834300.0\n",
      "2004-08-23  55.551482  56.915693  54.693835   54.869377   18256100.0\n",
      "2004-08-24  55.792225  55.972783  51.945350   52.597363   15247300.0\n",
      "2004-08-25  52.542193  54.167209  52.100830   53.164113    9188600.0\n"
     ]
    }
   ],
   "source": [
    "df = df[['Adj. Open', 'Adj. High', 'Adj. Low', 'Adj. Close', 'Adj. Volume']]\n",
    "print(df.head())"
   ]
  },
  {
   "cell_type": "code",
   "execution_count": 5,
   "metadata": {},
   "outputs": [
    {
     "name": "stdout",
     "output_type": "stream",
     "text": [
      "            Adj. Open  Adj. High   Adj. Low  Adj. Close  Adj. Volume    HL_PCT\n",
      "Date                                                                          \n",
      "2004-08-19  50.159839  52.191109  48.128568   50.322842   44659000.0  3.712563\n",
      "2004-08-20  50.661387  54.708881  50.405597   54.322689   22834300.0  0.710922\n",
      "2004-08-23  55.551482  56.915693  54.693835   54.869377   18256100.0  3.729433\n",
      "2004-08-24  55.792225  55.972783  51.945350   52.597363   15247300.0  6.417469\n",
      "2004-08-25  52.542193  54.167209  52.100830   53.164113    9188600.0  1.886792\n"
     ]
    }
   ],
   "source": [
    "df['HL_PCT'] = (df['Adj. High'] - df['Adj. Close']) / df['Adj. Close'] * 100.0\n",
    "print(df.head())"
   ]
  },
  {
   "cell_type": "code",
   "execution_count": 6,
   "metadata": {},
   "outputs": [
    {
     "name": "stdout",
     "output_type": "stream",
     "text": [
      "            Adj. Open  Adj. High   Adj. Low  Adj. Close  Adj. Volume  \\\n",
      "Date                                                                   \n",
      "2004-08-19  50.159839  52.191109  48.128568   50.322842   44659000.0   \n",
      "2004-08-20  50.661387  54.708881  50.405597   54.322689   22834300.0   \n",
      "2004-08-23  55.551482  56.915693  54.693835   54.869377   18256100.0   \n",
      "2004-08-24  55.792225  55.972783  51.945350   52.597363   15247300.0   \n",
      "2004-08-25  52.542193  54.167209  52.100830   53.164113    9188600.0   \n",
      "\n",
      "              HL_PCT  PCT_change  \n",
      "Date                              \n",
      "2004-08-19  3.712563    0.323915  \n",
      "2004-08-20  0.710922    6.739913  \n",
      "2004-08-23  3.729433   -1.243144  \n",
      "2004-08-24  6.417469   -6.074187  \n",
      "2004-08-25  1.886792    1.169811  \n"
     ]
    }
   ],
   "source": [
    "df['PCT_change'] = (df['Adj. Close'] - df['Adj. Open']) / df['Adj. Close'] * 100.0\n",
    "print(df.head())"
   ]
  },
  {
   "cell_type": "code",
   "execution_count": 7,
   "metadata": {},
   "outputs": [
    {
     "name": "stdout",
     "output_type": "stream",
     "text": [
      "            Adj. Close    HL_PCT  PCT_change  Adj. Volume\n",
      "Date                                                     \n",
      "2004-08-19   50.322842  3.712563    0.323915   44659000.0\n",
      "2004-08-20   54.322689  0.710922    6.739913   22834300.0\n",
      "2004-08-23   54.869377  3.729433   -1.243144   18256100.0\n",
      "2004-08-24   52.597363  6.417469   -6.074187   15247300.0\n",
      "2004-08-25   53.164113  1.886792    1.169811    9188600.0\n"
     ]
    }
   ],
   "source": [
    "df = df[['Adj. Close', 'HL_PCT', 'PCT_change', 'Adj. Volume']]\n",
    "print(df.head())"
   ]
  },
  {
   "cell_type": "code",
   "execution_count": 8,
   "metadata": {},
   "outputs": [],
   "source": [
    "forecast_col = 'Adj. Close'\n",
    "df.fillna(-99999, inplace=True)"
   ]
  },
  {
   "cell_type": "code",
   "execution_count": 9,
   "metadata": {},
   "outputs": [
    {
     "name": "stdout",
     "output_type": "stream",
     "text": [
      "35\n"
     ]
    },
    {
     "data": {
      "text/plain": [
       "3424"
      ]
     },
     "execution_count": 9,
     "metadata": {},
     "output_type": "execute_result"
    }
   ],
   "source": [
    "forecast_out = int(math.ceil(0.01*len(df)))\n",
    "print(forecast_out)\n",
    "len(df)"
   ]
  },
  {
   "cell_type": "code",
   "execution_count": 10,
   "metadata": {},
   "outputs": [
    {
     "name": "stdout",
     "output_type": "stream",
     "text": [
      "            Adj. Close    HL_PCT  PCT_change  Adj. Volume      label\n",
      "Date                                                                \n",
      "2004-08-19   50.322842  3.712563    0.323915   44659000.0  69.078238\n",
      "2004-08-20   54.322689  0.710922    6.739913   22834300.0  67.839414\n",
      "2004-08-23   54.869377  3.729433   -1.243144   18256100.0  68.912727\n",
      "2004-08-24   52.597363  6.417469   -6.074187   15247300.0  70.668146\n",
      "2004-08-25   53.164113  1.886792    1.169811    9188600.0  71.219849\n",
      "            Adj. Close    HL_PCT  PCT_change  Adj. Volume    label\n",
      "Date                                                              \n",
      "2018-01-30     1177.37  0.896914   -0.029727    1792602.0  1094.00\n",
      "2018-01-31     1182.22  0.346805   -0.134493    1643877.0  1053.15\n",
      "2018-02-01     1181.59  0.495942    0.473938    2774967.0  1026.55\n",
      "2018-02-02     1119.20  1.081129   -0.734453    5798880.0  1054.09\n",
      "2018-02-05     1068.76  4.325574   -2.980089    3742469.0  1006.94\n"
     ]
    }
   ],
   "source": [
    "df['label'] = df[forecast_col].shift(-forecast_out)\n",
    "df.dropna(inplace=True)\n",
    "print(df.head())\n",
    "print(df.tail())"
   ]
  },
  {
   "cell_type": "code",
   "execution_count": 11,
   "metadata": {},
   "outputs": [
    {
     "name": "stdout",
     "output_type": "stream",
     "text": [
      "x\n",
      "[[ 5.03228418e+01  3.71256291e+00  3.23914885e-01  4.46590000e+07]\n",
      " [ 5.43226889e+01  7.10922353e-01  6.73991321e+00  2.28343000e+07]\n",
      " [ 5.48693765e+01  3.72943327e+00 -1.24314442e+00  1.82561000e+07]\n",
      " ...\n",
      " [ 1.18159000e+03  4.95941909e-01  4.73937660e-01  2.77496700e+06]\n",
      " [ 1.11920000e+03  1.08112938e+00 -7.34453181e-01  5.79888000e+06]\n",
      " [ 1.06876000e+03  4.32557356e+00 -2.98008908e+00  3.74246900e+06]]\n",
      "y\n",
      "[  69.0782379    67.83941377   68.91272699 ... 1026.55       1054.09\n",
      " 1006.94      ]\n"
     ]
    }
   ],
   "source": [
    "X = np.array(df.drop(['label'], 1))\n",
    "y = np.array(df['label'])\n",
    "print(\"x\")\n",
    "print(X)\n",
    "print(\"y\")\n",
    "print(y)"
   ]
  },
  {
   "cell_type": "code",
   "execution_count": 13,
   "metadata": {},
   "outputs": [
    {
     "name": "stdout",
     "output_type": "stream",
     "text": [
      "[[-1.41006544  2.35025798  0.2449376   4.44790502]\n",
      " [-1.39402696 -0.30866295  4.50625488  1.80881376]\n",
      " [-1.39183486  2.36520212 -0.79585708  1.25520764]\n",
      " ...\n",
      " [ 3.12606095 -0.49909747  0.34457831 -0.61680539]\n",
      " [ 2.87589111  0.01927479 -0.45799933 -0.25114711]\n",
      " [ 2.67363808  2.89327664 -1.94948461 -0.4998129 ]]\n"
     ]
    }
   ],
   "source": [
    "X = preprocessing.scale(X)\n",
    "print(X)"
   ]
  },
  {
   "cell_type": "code",
   "execution_count": 14,
   "metadata": {},
   "outputs": [],
   "source": [
    "#x = x[:-forecast_out+1]"
   ]
  },
  {
   "cell_type": "code",
   "execution_count": 15,
   "metadata": {},
   "outputs": [
    {
     "name": "stdout",
     "output_type": "stream",
     "text": [
      "3389 3389\n"
     ]
    }
   ],
   "source": [
    "y = np.array(df['label'])\n",
    "print(len(X),len(y))"
   ]
  },
  {
   "cell_type": "code",
   "execution_count": 16,
   "metadata": {},
   "outputs": [],
   "source": [
    "X_train, X_test, y_train, y_test = cross_validation.train_test_split(X, y, test_size=0.2)"
   ]
  },
  {
   "cell_type": "code",
   "execution_count": 17,
   "metadata": {},
   "outputs": [
    {
     "name": "stdout",
     "output_type": "stream",
     "text": [
      "0.9769566976026005\n"
     ]
    }
   ],
   "source": [
    "#linear regression\n",
    "clf = LinearRegression()\n",
    "clf.fit(X_train, y_train)\n",
    "accuracy = clf.score(X_test, y_test)\n",
    "print(accuracy)"
   ]
  },
  {
   "cell_type": "code",
   "execution_count": 18,
   "metadata": {},
   "outputs": [
    {
     "name": "stdout",
     "output_type": "stream",
     "text": [
      "0.7670628809373439\n"
     ]
    }
   ],
   "source": [
    "#suport vector machine\n",
    "clf = svm.SVR()\n",
    "clf.fit(X_train, y_train)\n",
    "accuracy = clf.score(X_test, y_test)\n",
    "print(accuracy)"
   ]
  },
  {
   "cell_type": "code",
   "execution_count": null,
   "metadata": {},
   "outputs": [],
   "source": []
  },
  {
   "cell_type": "code",
   "execution_count": null,
   "metadata": {},
   "outputs": [],
   "source": []
  }
 ],
 "metadata": {
  "kernelspec": {
   "display_name": "Python 3",
   "language": "python",
   "name": "python3"
  },
  "language_info": {
   "codemirror_mode": {
    "name": "ipython",
    "version": 3
   },
   "file_extension": ".py",
   "mimetype": "text/x-python",
   "name": "python",
   "nbconvert_exporter": "python",
   "pygments_lexer": "ipython3",
   "version": "3.6.4"
  }
 },
 "nbformat": 4,
 "nbformat_minor": 2
}
