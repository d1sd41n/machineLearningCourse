{
 "cells": [
  {
   "cell_type": "code",
   "execution_count": 14,
   "metadata": {},
   "outputs": [],
   "source": [
    "import pandas as pd \n",
    "import quandl\n",
    "import math\n",
    "import numpy as np\n",
    "from sklearn import preprocessing, cross_validation, svm\n",
    "from sklearn.linear_model import LinearRegression"
   ]
  },
  {
   "cell_type": "code",
   "execution_count": 15,
   "metadata": {},
   "outputs": [],
   "source": [
    "df = quandl.get('WIKI/GOOGL') "
   ]
  },
  {
   "cell_type": "code",
   "execution_count": 16,
   "metadata": {},
   "outputs": [
    {
     "name": "stdout",
     "output_type": "stream",
     "text": [
      "              Open    High     Low    Close      Volume  Ex-Dividend  \\\n",
      "Date                                                                   \n",
      "2004-08-19  100.01  104.06   95.96  100.335  44659000.0          0.0   \n",
      "2004-08-20  101.01  109.08  100.50  108.310  22834300.0          0.0   \n",
      "2004-08-23  110.76  113.48  109.05  109.400  18256100.0          0.0   \n",
      "2004-08-24  111.24  111.60  103.57  104.870  15247300.0          0.0   \n",
      "2004-08-25  104.76  108.00  103.88  106.000   9188600.0          0.0   \n",
      "\n",
      "            Split Ratio  Adj. Open  Adj. High   Adj. Low  Adj. Close  \\\n",
      "Date                                                                   \n",
      "2004-08-19          1.0  50.159839  52.191109  48.128568   50.322842   \n",
      "2004-08-20          1.0  50.661387  54.708881  50.405597   54.322689   \n",
      "2004-08-23          1.0  55.551482  56.915693  54.693835   54.869377   \n",
      "2004-08-24          1.0  55.792225  55.972783  51.945350   52.597363   \n",
      "2004-08-25          1.0  52.542193  54.167209  52.100830   53.164113   \n",
      "\n",
      "            Adj. Volume  \n",
      "Date                     \n",
      "2004-08-19   44659000.0  \n",
      "2004-08-20   22834300.0  \n",
      "2004-08-23   18256100.0  \n",
      "2004-08-24   15247300.0  \n",
      "2004-08-25    9188600.0  \n"
     ]
    }
   ],
   "source": [
    "print(df.head())"
   ]
  },
  {
   "cell_type": "code",
   "execution_count": 17,
   "metadata": {},
   "outputs": [
    {
     "name": "stdout",
     "output_type": "stream",
     "text": [
      "            Adj. Open  Adj. High   Adj. Low  Adj. Close  Adj. Volume\n",
      "Date                                                                \n",
      "2004-08-19  50.159839  52.191109  48.128568   50.322842   44659000.0\n",
      "2004-08-20  50.661387  54.708881  50.405597   54.322689   22834300.0\n",
      "2004-08-23  55.551482  56.915693  54.693835   54.869377   18256100.0\n",
      "2004-08-24  55.792225  55.972783  51.945350   52.597363   15247300.0\n",
      "2004-08-25  52.542193  54.167209  52.100830   53.164113    9188600.0\n"
     ]
    }
   ],
   "source": [
    "df = df[['Adj. Open', 'Adj. High', 'Adj. Low', 'Adj. Close', 'Adj. Volume']]\n",
    "print(df.head())"
   ]
  },
  {
   "cell_type": "code",
   "execution_count": 18,
   "metadata": {},
   "outputs": [
    {
     "name": "stdout",
     "output_type": "stream",
     "text": [
      "            Adj. Open  Adj. High   Adj. Low  Adj. Close  Adj. Volume    HL_PCT\n",
      "Date                                                                          \n",
      "2004-08-19  50.159839  52.191109  48.128568   50.322842   44659000.0  3.712563\n",
      "2004-08-20  50.661387  54.708881  50.405597   54.322689   22834300.0  0.710922\n",
      "2004-08-23  55.551482  56.915693  54.693835   54.869377   18256100.0  3.729433\n",
      "2004-08-24  55.792225  55.972783  51.945350   52.597363   15247300.0  6.417469\n",
      "2004-08-25  52.542193  54.167209  52.100830   53.164113    9188600.0  1.886792\n"
     ]
    }
   ],
   "source": [
    "df['HL_PCT'] = (df['Adj. High'] - df['Adj. Close']) / df['Adj. Close'] * 100.0\n",
    "print(df.head())"
   ]
  },
  {
   "cell_type": "code",
   "execution_count": 19,
   "metadata": {},
   "outputs": [
    {
     "name": "stdout",
     "output_type": "stream",
     "text": [
      "            Adj. Open  Adj. High   Adj. Low  Adj. Close  Adj. Volume  \\\n",
      "Date                                                                   \n",
      "2004-08-19  50.159839  52.191109  48.128568   50.322842   44659000.0   \n",
      "2004-08-20  50.661387  54.708881  50.405597   54.322689   22834300.0   \n",
      "2004-08-23  55.551482  56.915693  54.693835   54.869377   18256100.0   \n",
      "2004-08-24  55.792225  55.972783  51.945350   52.597363   15247300.0   \n",
      "2004-08-25  52.542193  54.167209  52.100830   53.164113    9188600.0   \n",
      "\n",
      "              HL_PCT  PCT_change  \n",
      "Date                              \n",
      "2004-08-19  3.712563    0.323915  \n",
      "2004-08-20  0.710922    6.739913  \n",
      "2004-08-23  3.729433   -1.243144  \n",
      "2004-08-24  6.417469   -6.074187  \n",
      "2004-08-25  1.886792    1.169811  \n"
     ]
    }
   ],
   "source": [
    "df['PCT_change'] = (df['Adj. Close'] - df['Adj. Open']) / df['Adj. Close'] * 100.0\n",
    "print(df.head())"
   ]
  },
  {
   "cell_type": "code",
   "execution_count": 20,
   "metadata": {},
   "outputs": [
    {
     "name": "stdout",
     "output_type": "stream",
     "text": [
      "            Adj. Close    HL_PCT  PCT_change  Adj. Volume\n",
      "Date                                                     \n",
      "2004-08-19   50.322842  3.712563    0.323915   44659000.0\n",
      "2004-08-20   54.322689  0.710922    6.739913   22834300.0\n",
      "2004-08-23   54.869377  3.729433   -1.243144   18256100.0\n",
      "2004-08-24   52.597363  6.417469   -6.074187   15247300.0\n",
      "2004-08-25   53.164113  1.886792    1.169811    9188600.0\n"
     ]
    }
   ],
   "source": [
    "df = df[['Adj. Close', 'HL_PCT', 'PCT_change', 'Adj. Volume']]\n",
    "print(df.head())"
   ]
  },
  {
   "cell_type": "code",
   "execution_count": 21,
   "metadata": {},
   "outputs": [],
   "source": [
    "forecast_col = 'Adj. Close'\n",
    "df.fillna(-99999, inplace=True)"
   ]
  },
  {
   "cell_type": "code",
   "execution_count": 22,
   "metadata": {},
   "outputs": [
    {
     "name": "stdout",
     "output_type": "stream",
     "text": [
      "35\n"
     ]
    },
    {
     "data": {
      "text/plain": [
       "3424"
      ]
     },
     "execution_count": 22,
     "metadata": {},
     "output_type": "execute_result"
    }
   ],
   "source": [
    "forecast_out = int(math.ceil(0.01*len(df)))\n",
    "print(forecast_out)\n",
    "len(df)"
   ]
  },
  {
   "cell_type": "code",
   "execution_count": 47,
   "metadata": {},
   "outputs": [
    {
     "name": "stdout",
     "output_type": "stream",
     "text": [
      "            Adj. Close    HL_PCT  PCT_change  Adj. Volume      label\n",
      "Date                                                                \n",
      "2004-08-19   50.322842  3.712563    0.323915   44659000.0  69.078238\n",
      "2004-08-20   54.322689  0.710922    6.739913   22834300.0  67.839414\n",
      "2004-08-23   54.869377  3.729433   -1.243144   18256100.0  68.912727\n",
      "2004-08-24   52.597363  6.417469   -6.074187   15247300.0  70.668146\n",
      "2004-08-25   53.164113  1.886792    1.169811    9188600.0  71.219849\n",
      "            Adj. Close    HL_PCT  PCT_change  Adj. Volume    label\n",
      "Date                                                              \n",
      "2017-12-07     1044.57  0.416439    0.813732    1437448.0  1177.37\n",
      "2017-12-08     1049.38  0.670872   -0.231565    1479665.0  1182.22\n",
      "2017-12-11     1051.97  0.383091    0.081751    1096997.0  1181.59\n",
      "2017-12-12     1048.77  1.309153   -0.117280    1684977.0  1119.20\n",
      "2017-12-13     1051.39  0.389009   -0.065627    1369580.0  1068.76\n"
     ]
    }
   ],
   "source": [
    "df['label'] = df[forecast_col].shift(-forecast_out)\n",
    "df.dropna(inplace=True)\n",
    "print(df.head())\n",
    "print(df.tail())"
   ]
  },
  {
   "cell_type": "code",
   "execution_count": 48,
   "metadata": {},
   "outputs": [
    {
     "name": "stdout",
     "output_type": "stream",
     "text": [
      "x\n",
      "[[ 5.03228418e+01  3.71256291e+00  3.23914885e-01  4.46590000e+07]\n",
      " [ 5.43226889e+01  7.10922353e-01  6.73991321e+00  2.28343000e+07]\n",
      " [ 5.48693765e+01  3.72943327e+00 -1.24314442e+00  1.82561000e+07]\n",
      " ...\n",
      " [ 1.05197000e+03  3.83090773e-01  8.17513807e-02  1.09699700e+06]\n",
      " [ 1.04877000e+03  1.30915263e+00 -1.17280243e-01  1.68497700e+06]\n",
      " [ 1.05139000e+03  3.89008836e-01 -6.56274075e-02  1.36958000e+06]]\n",
      "y\n",
      "[  69.0782379    67.83941377   68.91272699 ... 1181.59       1119.2\n",
      " 1068.76      ]\n"
     ]
    }
   ],
   "source": [
    "x = np.array(df.drop(['label'], 1))\n",
    "y = np.array(df['label'])\n",
    "print(\"x\")\n",
    "print(x)\n",
    "print(\"y\")\n",
    "print(y)"
   ]
  },
  {
   "cell_type": "code",
   "execution_count": 50,
   "metadata": {},
   "outputs": [
    {
     "name": "stdout",
     "output_type": "stream",
     "text": [
      "[[-1.43600244  2.34106815  0.24475544  4.43035655]\n",
      " [-1.41931566 -0.31219113  4.49196418  1.7970536 ]\n",
      " [-1.41703496  2.35598048 -0.79259333  1.24466169]\n",
      " ...\n",
      " [ 2.74272303 -0.60197339  0.08445008 -0.8257043 ]\n",
      " [ 2.7293731   0.21660637 -0.04730321 -0.75476039]\n",
      " [ 2.74030335 -0.5967422  -0.0131105  -0.79281525]]\n"
     ]
    }
   ],
   "source": [
    "x = preprocessing.scale(x)\n",
    "print(x)"
   ]
  },
  {
   "cell_type": "code",
   "execution_count": 51,
   "metadata": {},
   "outputs": [],
   "source": [
    "#x = x[:-forecast_out+1]"
   ]
  },
  {
   "cell_type": "code",
   "execution_count": 52,
   "metadata": {},
   "outputs": [
    {
     "name": "stdout",
     "output_type": "stream",
     "text": [
      "3354 3354\n"
     ]
    }
   ],
   "source": [
    "y = np.array(df['label'])\n",
    "print(len(x),len(y))"
   ]
  },
  {
   "cell_type": "code",
   "execution_count": 53,
   "metadata": {},
   "outputs": [],
   "source": [
    "x_train, x_test, y_train, y_test = cross_validation.train_test_split(x, y, test_size=0.2)"
   ]
  },
  {
   "cell_type": "code",
   "execution_count": 55,
   "metadata": {},
   "outputs": [
    {
     "name": "stdout",
     "output_type": "stream",
     "text": [
      "2683\n"
     ]
    }
   ],
   "source": [
    "clf = "
   ]
  },
  {
   "cell_type": "code",
   "execution_count": 57,
   "metadata": {},
   "outputs": [
    {
     "name": "stdout",
     "output_type": "stream",
     "text": [
      "2683.2000000000003\n"
     ]
    }
   ],
   "source": [
    "print(len(x)*0.8)"
   ]
  },
  {
   "cell_type": "code",
   "execution_count": null,
   "metadata": {},
   "outputs": [],
   "source": []
  }
 ],
 "metadata": {
  "kernelspec": {
   "display_name": "Python 3",
   "language": "python",
   "name": "python3"
  },
  "language_info": {
   "codemirror_mode": {
    "name": "ipython",
    "version": 3
   },
   "file_extension": ".py",
   "mimetype": "text/x-python",
   "name": "python",
   "nbconvert_exporter": "python",
   "pygments_lexer": "ipython3",
   "version": "3.6.4"
  }
 },
 "nbformat": 4,
 "nbformat_minor": 2
}
